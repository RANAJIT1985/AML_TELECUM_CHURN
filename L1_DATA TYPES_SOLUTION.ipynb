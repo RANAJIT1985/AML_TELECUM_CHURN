{
 "cells": [
  {
   "cell_type": "markdown",
   "id": "9cacd9e4",
   "metadata": {
    "id": "9cacd9e4"
   },
   "source": [
    "# Data Types & Basic Programs\n",
    "- Write solution of each question in the cell given below the corresponsing question."
   ]
  },
  {
   "cell_type": "markdown",
   "id": "a36a3683",
   "metadata": {
    "id": "a36a3683"
   },
   "source": [
    "#### 1. Write a program to take principal amount, rate and interest as input and calculate simple interest."
   ]
  },
  {
   "cell_type": "code",
   "execution_count": 1,
   "id": "iyGa2yN7bkZL",
   "metadata": {
    "colab": {
     "base_uri": "https://localhost:8080/",
     "height": 130
    },
    "executionInfo": {
     "elapsed": 8,
     "status": "error",
     "timestamp": 1682422665028,
     "user": {
      "displayName": "saylee morey",
      "userId": "14399473198527863861"
     },
     "user_tz": -330
    },
    "id": "iyGa2yN7bkZL",
    "outputId": "43c86045-073b-48a6-b7fb-8895e19b4b9c"
   },
   "outputs": [
    {
     "name": "stdout",
     "output_type": "stream",
     "text": [
      "The pricipal is  1000\n",
      "The time period is 4\n",
      "The rate of interest is 5\n",
      "The Simple Interest is 200.0\n"
     ]
    },
    {
     "data": {
      "text/plain": [
       "200.0"
      ]
     },
     "execution_count": 1,
     "metadata": {},
     "output_type": "execute_result"
    }
   ],
   "source": [
    "\n",
    " # python code for calculating simple interest using principal amount, rate and interest\n",
    " def simple_interest(p, t, r):\n",
    "   print('The pricipal is ', p)\n",
    "   print('The time period is', t)\n",
    "   print('The rate of interest is', r)\n",
    "\n",
    "   si= (p*t*r)/100\n",
    "   print('The Simple Interest is', si)\n",
    "   return si\n",
    "  # sample amount for code\n",
    "simple_interest(1000,4,5)\n",
    " "
   ]
  },
  {
   "cell_type": "markdown",
   "id": "3a9994e0",
   "metadata": {
    "id": "3a9994e0"
   },
   "source": [
    "#### 2. Write a program that takes a string as input and prints the number of words in the string."
   ]
  },
  {
   "cell_type": "code",
   "execution_count": 1,
   "id": "9VbTZFFQfHCm",
   "metadata": {
    "id": "9VbTZFFQfHCm"
   },
   "outputs": [
    {
     "name": "stdout",
     "output_type": "stream",
     "text": [
      "Enter a string: Pabitra Puri Garb Amari\n",
      "Number of words: 4\n"
     ]
    }
   ],
   "source": [
    "def count_words(input_string):\n",
    "    # Split the string into words using whitespace as the delimiter\n",
    "    words = input_string.split()\n",
    "    \n",
    "    # Print the number of words in the string\n",
    "    print(\"Number of words:\", len(words))\n",
    "\n",
    "# Get input from the user\n",
    "user_input = input(\"Enter a string: \")\n",
    "\n",
    "# Call the function to count words and print the result\n",
    "count_words(user_input)"
   ]
  },
  {
   "cell_type": "markdown",
   "id": "8a8d5e27",
   "metadata": {
    "id": "8a8d5e27"
   },
   "source": [
    "#### 3. Write a program to take a list of numbers as input (in a single line) and print the sum, avg, max and min elements."
   ]
  },
  {
   "cell_type": "code",
   "execution_count": 2,
   "id": "OUlGO6fiVlU7",
   "metadata": {
    "id": "OUlGO6fiVlU7"
   },
   "outputs": [
    {
     "name": "stdout",
     "output_type": "stream",
     "text": [
      "Enter a list of numbers separated by spaces: 10 20 30 40 50\n",
      "Sum: 150.0\n",
      "Average: 30.0\n",
      "Maximum: 50.0\n",
      "Minimum: 10.0\n"
     ]
    }
   ],
   "source": [
    "def analyze_numbers(numbers):\n",
    "    # Convert input strings to float\n",
    "    numbers = [float(num) for num in numbers]\n",
    "\n",
    "    # Calculate sum, average, max, and min\n",
    "    total = sum(numbers)\n",
    "    avg = total / len(numbers)\n",
    "    maximum = max(numbers)\n",
    "    minimum = min(numbers)\n",
    "\n",
    "    # Print the results\n",
    "    print(\"Sum:\", total)\n",
    "    print(\"Average:\", avg)\n",
    "    print(\"Maximum:\", maximum)\n",
    "    print(\"Minimum:\", minimum)\n",
    "\n",
    "# Get input from the user as a single line of numbers\n",
    "user_input = input(\"Enter a list of numbers separated by spaces: \")\n",
    "\n",
    "# Split the input string into a list of numbers\n",
    "number_list = user_input.split()\n",
    "\n",
    "# Call the function to analyze numbers and print the results\n",
    "analyze_numbers(number_list)"
   ]
  },
  {
   "cell_type": "markdown",
   "id": "17dbd6e8",
   "metadata": {
    "id": "17dbd6e8"
   },
   "source": [
    "#### 4. Write a program to take the marks of 3 students in five subjects each as a list (one list for each input) as input and print the average score of each student.."
   ]
  },
  {
   "cell_type": "code",
   "execution_count": 3,
   "id": "BTd2sM7i9sui",
   "metadata": {
    "id": "BTd2sM7i9sui"
   },
   "outputs": [
    {
     "name": "stdout",
     "output_type": "stream",
     "text": [
      "Enter marks for Student 1 in five subjects:\n",
      "Subject 1: 98\n",
      "Subject 2: 97\n",
      "Subject 3: 96\n",
      "Subject 4: 95\n",
      "Subject 5: 94\n",
      "Enter marks for Student 2 in five subjects:\n",
      "Subject 1: 88\n",
      "Subject 2: 87\n",
      "Subject 3: 86\n",
      "Subject 4: 85\n",
      "Subject 5: 84\n",
      "Enter marks for Student 3 in five subjects:\n",
      "Subject 1: 78\n",
      "Subject 2: 77\n",
      "Subject 3: 76\n",
      "Subject 4: 75\n",
      "Subject 5: 74\n",
      "Average score for Student 1: 96.00\n",
      "Average score for Student 2: 86.00\n",
      "Average score for Student 3: 76.00\n"
     ]
    }
   ],
   "source": [
    "def calculate_average(marks):\n",
    "    return sum(marks) / len(marks)\n",
    "\n",
    "def main():\n",
    "    num_students = 3\n",
    "    num_subjects = 5\n",
    "\n",
    "    # Initialize an empty list to store marks for each student\n",
    "    student_marks = []\n",
    "\n",
    "    # Input marks for each student\n",
    "    for i in range(num_students):\n",
    "        marks = []\n",
    "        print(f\"Enter marks for Student {i + 1} in five subjects:\")\n",
    "        for j in range(num_subjects):\n",
    "            subject_mark = float(input(f\"Subject {j + 1}: \"))\n",
    "            marks.append(subject_mark)\n",
    "        student_marks.append(marks)\n",
    "\n",
    "    # Calculate and print the average score for each student\n",
    "    for i, marks in enumerate(student_marks):\n",
    "        average_score = calculate_average(marks)\n",
    "        print(f\"Average score for Student {i + 1}: {average_score:.2f}\")\n",
    "\n",
    "if __name__ == \"__main__\":\n",
    "    main()"
   ]
  },
  {
   "cell_type": "markdown",
   "id": "39fb8526",
   "metadata": {
    "id": "39fb8526"
   },
   "source": [
    "#### 5. Write a program to take a list as input containing results of 10 coin tosses as 'H' or 'T'. Jon gets a point for each 'T' and Tom gets a point for each 'H'. print the points recieved by both."
   ]
  },
  {
   "cell_type": "code",
   "execution_count": 2,
   "id": "Ijvfc63fHr8B",
   "metadata": {
    "id": "Ijvfc63fHr8B"
   },
   "outputs": [
    {
     "name": "stdout",
     "output_type": "stream",
     "text": [
      "Enter the results of 10 coin tosses (use 'H' for Heads and 'T' for Tails): H T T H T T H H T H\n",
      "Jon's points: 5\n",
      "Tom's points: 5\n"
     ]
    }
   ],
   "source": [
    "def count_points(coin_toss_results):\n",
    "    # Initialize points for Jon and Tom\n",
    "    jon_points = 0\n",
    "    tom_points = 0\n",
    "\n",
    "    # Count points based on the coin toss results\n",
    "    for result in coin_toss_results:\n",
    "        if result == 'T':\n",
    "            jon_points += 1\n",
    "        elif result == 'H':\n",
    "            tom_points += 1\n",
    "\n",
    "    # Print the points received by Jon and Tom\n",
    "    print(\"Jon's points:\", jon_points)\n",
    "    print(\"Tom's points:\", tom_points)\n",
    "\n",
    "# Get input from the user for the coin toss results\n",
    "user_input = input(\"Enter the results of 10 coin tosses (use 'H' for Heads and 'T' for Tails): \")\n",
    "\n",
    "# Convert the input string to a list of characters\n",
    "coin_toss_results = list(user_input)\n",
    "\n",
    "# Call the function to count points and print the results\n",
    "count_points(coin_toss_results)"
   ]
  },
  {
   "cell_type": "markdown",
   "id": "4a6dc391",
   "metadata": {
    "id": "4a6dc391"
   },
   "source": [
    "#### 6. Take two numbers as input and print the result after swapping them. (Without using multiple assignment and any extra variable)."
   ]
  },
  {
   "cell_type": "code",
   "execution_count": 7,
   "id": "oiSoXznqZbC_",
   "metadata": {
    "id": "oiSoXznqZbC_"
   },
   "outputs": [
    {
     "name": "stdout",
     "output_type": "stream",
     "text": [
      "Enter the first number: 10\n",
      "Enter the second number: 20\n",
      "Before swapping: a = 10.0 b = 20.0\n",
      "After swapping: a = 20.0 b = 10.0\n"
     ]
    }
   ],
   "source": [
    "def swap_numbers(a, b):\n",
    "    print(\"Before swapping: a =\", a, \"b =\", b)\n",
    "\n",
    "    # Swap numbers without using multiple assignments or extra variable\n",
    "    a = a + b\n",
    "    b = a - b\n",
    "    a = a - b\n",
    "\n",
    "    print(\"After swapping: a =\", a, \"b =\", b)\n",
    "\n",
    "# Get input from the user for two numbers\n",
    "num1 = float(input(\"Enter the first number: \"))\n",
    "num2 = float(input(\"Enter the second number: \"))\n",
    "\n",
    "# Call the function to swap numbers and print the results\n",
    "swap_numbers(num1, num2)\n"
   ]
  },
  {
   "cell_type": "markdown",
   "id": "b0059e36",
   "metadata": {
    "id": "b0059e36"
   },
   "source": [
    "#### 7. Take a list as input in a single line containing 10 numbers as marks out of 100. The even positions in the list are marks of Tom and the odd positions are the marks of Jon. Calculate the average marks of both."
   ]
  },
  {
   "cell_type": "code",
   "execution_count": 8,
   "id": "dzK-bSIM6rh6",
   "metadata": {
    "id": "dzK-bSIM6rh6"
   },
   "outputs": [
    {
     "name": "stdout",
     "output_type": "stream",
     "text": [
      "Enter 10 numbers as marks out of 100 (separated by spaces): 99 98 97 96 95 94 93 92 91 90\n",
      "Tom's average marks: 95.0\n",
      "Jon's average marks: 94.0\n"
     ]
    }
   ],
   "source": [
    "def calculate_average_marks(marks_list):\n",
    "    # Separate the marks for Tom and Jon\n",
    "    tom_marks = marks_list[0::2]  # Marks at even positions\n",
    "    jon_marks = marks_list[1::2]  # Marks at odd positions\n",
    "\n",
    "    # Calculate the average marks for Tom and Jon\n",
    "    tom_average = sum(tom_marks) / len(tom_marks)\n",
    "    jon_average = sum(jon_marks) / len(jon_marks)\n",
    "\n",
    "    # Print the average marks for Tom and Jon\n",
    "    print(\"Tom's average marks:\", tom_average)\n",
    "    print(\"Jon's average marks:\", jon_average)\n",
    "\n",
    "# Get input from the user for the list of marks\n",
    "user_input = input(\"Enter 10 numbers as marks out of 100 (separated by spaces): \")\n",
    "\n",
    "# Convert the input string to a list of integers\n",
    "marks_list = [int(mark) for mark in user_input.split()]\n",
    "\n",
    "# Call the function to calculate and print the average marks\n",
    "calculate_average_marks(marks_list)"
   ]
  },
  {
   "cell_type": "markdown",
   "id": "f07dab7c",
   "metadata": {
    "id": "f07dab7c"
   },
   "source": [
    "#### 8. Take a string and a character as input. Print the result having the character between each word of the given string."
   ]
  },
  {
   "cell_type": "code",
   "execution_count": 10,
   "id": "Bak8JEWdAAFv",
   "metadata": {
    "id": "Bak8JEWdAAFv"
   },
   "outputs": [
    {
     "name": "stdout",
     "output_type": "stream",
     "text": [
      "Enter a string: MO Dhama Mo Garba\n",
      "Enter a character to place between words: Puri\n",
      "Result: MOPuriDhamaPuriMoPuriGarba\n"
     ]
    }
   ],
   "source": [
    "def add_character_between_words(input_string, character):\n",
    "    # Split the input string into words\n",
    "    words = input_string.split()\n",
    "\n",
    "    # Join the words with the specified character between them\n",
    "    result = character.join(words)\n",
    "\n",
    "    # Print the result\n",
    "    print(\"Result:\", result)\n",
    "\n",
    "# Get input from the user for the string and the character\n",
    "user_input_string = input(\"Enter a string: \")\n",
    "user_input_character = input(\"Enter a character to place between words: \")\n",
    "\n",
    "# Call the function to add the character between words and print the result\n",
    "add_character_between_words(user_input_string, user_input_character)\n"
   ]
  },
  {
   "cell_type": "markdown",
   "id": "a45320b7",
   "metadata": {
    "id": "a45320b7"
   },
   "source": [
    "#### 9. Create a dictionary having three items. Key of each item is the name of a student, value associated with each key is a list of marks in five subjects. Given this dictionary print the average score of each student."
   ]
  },
  {
   "cell_type": "code",
   "execution_count": 12,
   "id": "_WpSWzXdLyri",
   "metadata": {
    "id": "_WpSWzXdLyri"
   },
   "outputs": [
    {
     "name": "stdout",
     "output_type": "stream",
     "text": [
      "Average score for Tom: 86.60\n",
      "Average score for Jon: 83.60\n",
      "Average score for Alice: 88.40\n"
     ]
    }
   ],
   "source": [
    "def calculate_average_score(student_marks_dict):\n",
    "    # Calculate the average score for each student\n",
    "    average_scores = {name: sum(marks) / len(marks) for name, marks in student_marks_dict.items()}\n",
    "\n",
    "    # Print the average score for each student\n",
    "    for name, avg_score in average_scores.items():\n",
    "        print(f\"Average score for {name}: {avg_score:.2f}\")\n",
    "\n",
    "# Create a dictionary with three students and their marks in five subjects\n",
    "students_dict = {\n",
    "    'Tom': [85, 90, 78, 92, 88],\n",
    "    'Jon': [76, 85, 90, 88, 79],\n",
    "    'Alice': [92, 88, 95, 89, 78]\n",
    "}\n",
    "\n",
    "# Call the function to calculate and print the average scores\n",
    "calculate_average_score(students_dict)"
   ]
  },
  {
   "cell_type": "markdown",
   "id": "aba63bd1",
   "metadata": {
    "id": "aba63bd1"
   },
   "source": [
    "#### 10. Take a string as input(may contain repetitive words), print a list consisting of unique words from the given string."
   ]
  },
  {
   "cell_type": "code",
   "execution_count": 4,
   "id": "Wrc5hOBIF-ww",
   "metadata": {
    "id": "Wrc5hOBIF-ww"
   },
   "outputs": [
    {
     "name": "stdout",
     "output_type": "stream",
     "text": [
      "Enter a string: Pabitra Puri Garb Amari Mo Dham Mo Garba\n",
      "Unique words: ['Dham', 'Pabitra', 'Garb', 'Amari', 'Mo', 'Puri', 'Garba']\n"
     ]
    }
   ],
   "source": [
    "def get_unique_words(input_string):\n",
    "    # Split the input string into words\n",
    "    words = input_string.split()\n",
    "\n",
    "    # Create a set to store unique words\n",
    "    unique_words = set(words)\n",
    "\n",
    "    # Convert the set back to a list (preserving the order of appearance)\n",
    "    unique_words_list = list(unique_words)\n",
    "\n",
    "    # Print the list of unique words\n",
    "    print(\"Unique words:\", unique_words_list)\n",
    "\n",
    "# Get input from the user for the string\n",
    "user_input = input(\"Enter a string: \")\n",
    "\n",
    "# Call the function to get and print unique words\n",
    "get_unique_words(user_input)"
   ]
  },
  {
   "cell_type": "code",
   "execution_count": null,
   "id": "d4ce1549",
   "metadata": {},
   "outputs": [],
   "source": []
  }
 ],
 "metadata": {
  "colab": {
   "provenance": []
  },
  "kernelspec": {
   "display_name": "Python 3 (ipykernel)",
   "language": "python",
   "name": "python3"
  },
  "language_info": {
   "codemirror_mode": {
    "name": "ipython",
    "version": 3
   },
   "file_extension": ".py",
   "mimetype": "text/x-python",
   "name": "python",
   "nbconvert_exporter": "python",
   "pygments_lexer": "ipython3",
   "version": "3.11.5"
  }
 },
 "nbformat": 4,
 "nbformat_minor": 5
}
